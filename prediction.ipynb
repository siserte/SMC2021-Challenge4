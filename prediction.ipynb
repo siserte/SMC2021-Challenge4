{
 "cells": [
  {
   "cell_type": "markdown",
   "metadata": {},
   "source": [
    "## Import libraries"
   ]
  },
  {
   "cell_type": "code",
   "execution_count": 1,
   "metadata": {},
   "outputs": [
    {
     "name": "stderr",
     "output_type": "stream",
     "text": [
      "Using TensorFlow backend.\n"
     ]
    },
    {
     "name": "stdout",
     "output_type": "stream",
     "text": [
      "Notebook running on Python 3.8.11\n",
      "Numpy version 1.20.3\n",
      "Keras version  2.3.1 and TensorFlow 2.2.0 (CUDA: True - GPUs available: [] )\n"
     ]
    }
   ],
   "source": [
    "import os\n",
    "#os.environ['CUDA_VISIBLE_DEVICES'] = '0,1'\n",
    "os.environ[\"CUDA_VISIBLE_DEVICES\"] = \"-1\"\n",
    "\n",
    "from decimal import Decimal\n",
    "import numpy as np\n",
    "import glob\n",
    "import importlib\n",
    "import gc\n",
    "import matplotlib.pyplot as plt\n",
    "#from livelossplot import PlotLossesKeras\n",
    "from sklearn.preprocessing import StandardScaler, MinMaxScaler\n",
    "from sklearn.metrics import mean_absolute_error, mean_squared_error\n",
    "import pickle\n",
    "import gc # Garbage Collector\n",
    "import pandas as pd\n",
    "from numpy import savez_compressed\n",
    "from joblib import dump, load\n",
    "from sklearn.model_selection import train_test_split\n",
    "\n",
    "from keras.models import load_model\n",
    "from keras.preprocessing.sequence import TimeseriesGenerator\n",
    "from keras.models import Sequential, load_model\n",
    "from keras.layers import LSTM, TimeDistributed, BatchNormalization, ConvLSTM2D\n",
    "from keras.layers.core import Dense, Flatten, Dropout, RepeatVector, Reshape, Dropout\n",
    "from keras.layers.convolutional import Conv3D, Conv3DTranspose, MaxPooling3D\n",
    "from keras.callbacks import ModelCheckpoint, EarlyStopping\n",
    "\n",
    "#leakyrelu = lambda x: tf.keras.activations.relu(x, alpha=0.1)\n",
    "\n",
    "def plot_loss(history):\n",
    "  plt.figure(figsize=(16,8))\n",
    "  plt.plot(history.history['loss'], label='loss')\n",
    "  plt.plot(history.history['val_loss'], label='val_loss')\n",
    "  #plt.ylim([0, 0.4])\n",
    "  plt.xlabel('Epoch')\n",
    "  plt.ylabel('Error')\n",
    "  plt.legend()\n",
    "  plt.grid(True)\n",
    "    \n",
    "from platform import python_version\n",
    "import keras\n",
    "import tensorflow as tf\n",
    "\n",
    "from tensorflow.compat.v1.keras.backend import set_session\n",
    "config = tf.compat.v1.ConfigProto()\n",
    "config.gpu_options.allow_growth = True  # True dynamically grow the memory used on the GPU\n",
    "sess = tf.compat.v1.Session(config=config)\n",
    "set_session(sess)\n",
    "\n",
    "from tensorflow.python.client import device_lib\n",
    "def get_available_gpus():\n",
    "    local_device_protos = device_lib.list_local_devices()\n",
    "    return [x.name for x in local_device_protos if x.device_type == 'GPU']\n",
    "\n",
    "print('Notebook running on Python', python_version())\n",
    "print('Numpy version', np.version.version)\n",
    "print('Keras version ', keras.__version__,'and TensorFlow', tf.__version__, '(CUDA:', tf.test.is_built_with_cuda(), '- GPUs available:', get_available_gpus(), ')')"
   ]
  },
  {
   "cell_type": "markdown",
   "metadata": {},
   "source": [
    "## Load data from files"
   ]
  },
  {
   "cell_type": "code",
   "execution_count": 2,
   "metadata": {},
   "outputs": [],
   "source": [
    "datasetRURpath = \"dc21-rur-and-gpu-data/RUR/\"\n",
    "datasetGPUpath = \"dc21-rur-and-gpu-data/GPU/\""
   ]
  },
  {
   "cell_type": "markdown",
   "metadata": {},
   "source": [
    "### RUR"
   ]
  },
  {
   "cell_type": "code",
   "execution_count": 3,
   "metadata": {},
   "outputs": [],
   "source": [
    "df = pd.DataFrame()\n",
    "files = glob.glob(datasetRURpath + \"/20*.csv\") \n",
    "for filename in files:\n",
    "    data = pd.read_csv(filename)\n",
    "    df = df.append(data, ignore_index=True)"
   ]
  },
  {
   "cell_type": "code",
   "execution_count": 6,
   "metadata": {},
   "outputs": [],
   "source": [
    "dfrur = df.copy()\n",
    "dfrur['end_time'] = pd.to_datetime(dfrur['end_time'])\n",
    "dfrur['start_time'] = pd.to_datetime(dfrur['start_time'])\n",
    "dfrur[\"duration\"] = (dfrur['end_time'] - dfrur['start_time']).dt.total_seconds()\n",
    "dfrur[\"i_command_list\"] = dfrur[\"command\"].apply(lambda x: x.split(\"Area\"))\n",
    "dfrur[\"i_command_len\"] = dfrur[\"i_command_list\"].apply(lambda x: len(x))\n",
    "dfrur.drop(dfrur.loc[dfrur[\"i_command_len\"] == 1].index, inplace=True)\n",
    "dfrur[\"area\"] = dfrur[\"i_command_list\"].apply(lambda x: x[1].split(\"-\")[0])"
   ]
  },
  {
   "cell_type": "code",
   "execution_count": 7,
   "metadata": {},
   "outputs": [
    {
     "name": "stdout",
     "output_type": "stream",
     "text": [
      "start_time\n",
      "2015-03-10      58\n",
      "2015-03-11     429\n",
      "2015-03-12    1280\n",
      "2015-03-13    1531\n",
      "2015-03-14     974\n",
      "              ... \n",
      "2019-07-09      21\n",
      "2019-07-10       6\n",
      "2019-07-11       3\n",
      "2019-07-12      70\n",
      "2019-07-13     104\n",
      "Freq: D, Name: start_time, Length: 1587, dtype: int64\n"
     ]
    }
   ],
   "source": [
    "dftask3 = dfrur\n",
    "dftask3 = dftask3[['start_time', 'max_rss', 'stime', 'utime', 'gpu_secs']]\n",
    "dftask3.index = pd.to_datetime(dftask3['start_time'],format='%m/%d/%y %I:%M%p')\n",
    "dfgrpr = dftask3.groupby(pd.Grouper(freq='D'))\n",
    "daycnt = dfgrpr['start_time'].count()\n",
    "print(daycnt)\n",
    "dfgrpr = dfgrpr[['max_rss', 'stime', 'utime', 'gpu_secs']].sum()"
   ]
  },
  {
   "cell_type": "code",
   "execution_count": 8,
   "metadata": {},
   "outputs": [
    {
     "name": "stdout",
     "output_type": "stream",
     "text": [
      "<bound method NDFrame.head of                  max_rss         stime         utime     gpu_secs\n",
      "start_time                                                       \n",
      "2015-03-10  8.432820e+07  1.129548e+13  7.069101e+13  124399453.0\n",
      "2015-03-11  5.383290e+08  2.815336e+13  4.222208e+14   32965933.0\n",
      "2015-03-12  1.568196e+09  5.682385e+13  4.393597e+14  265798280.0\n",
      "2015-03-13  1.985900e+09  2.107366e+13  5.103440e+14  209071515.0\n",
      "2015-03-14  1.061149e+09  2.101353e+13  3.221995e+14   69652114.0\n",
      "...                  ...           ...           ...          ...\n",
      "2019-07-09  7.643132e+06  5.075437e+13  1.038368e+15  367430773.0\n",
      "2019-07-10  3.717160e+07  6.520114e+13  4.055059e+15     184899.0\n",
      "2019-07-11  2.311513e+07  3.931808e+11  2.135831e+13          0.0\n",
      "2019-07-12  2.705705e+07  9.135871e+12  1.469318e+14          0.0\n",
      "2019-07-13  3.510934e+07  1.222513e+13  1.077694e+14    8722956.0\n",
      "\n",
      "[1587 rows x 4 columns]>\n",
      "(1587, 4)\n"
     ]
    }
   ],
   "source": [
    "print(dfgrpr.head)\n",
    "ds = np.array(dfgrpr)\n",
    "print(ds.shape)"
   ]
  },
  {
   "cell_type": "code",
   "execution_count": 9,
   "metadata": {},
   "outputs": [
    {
     "name": "stdout",
     "output_type": "stream",
     "text": [
      "(1587, 4)\n"
     ]
    }
   ],
   "source": [
    "dsnorm = []\n",
    "for feat in range(ds.shape[1]):\n",
    "    scaler = MinMaxScaler(copy=True)\n",
    "    norm = scaler.fit_transform(np.expand_dims(ds[:, feat], axis=1))\n",
    "    dsnorm.append(norm)\n",
    "dsnorm = np.hstack(dsnorm)\n",
    "print(dsnorm.shape)"
   ]
  },
  {
   "cell_type": "code",
   "execution_count": 11,
   "metadata": {},
   "outputs": [],
   "source": [
    "# split a univariate dataset into train/test sets\n",
    "def split_dataset(data):\n",
    "    # split into standard weeks\n",
    "    n_weeks = int(len(data) / 7)\n",
    "    ratio = int(n_weeks * 0.8)\n",
    "    train_weeks = ratio\n",
    "    test_weeks = n_weeks - ratio\n",
    "    train, test = data[:train_weeks*7], data[train_weeks*7:(train_weeks*7 + test_weeks*7)]\n",
    "    # restructure into windows of weekly data\n",
    "    train = np.array(np.split(train, len(train)/7))\n",
    "    test = np.array(np.split(test, len(test)/7))\n",
    "    return train, test\n",
    "\n",
    "# convert history into inputs and outputs\n",
    "def to_supervised(train, n_input, n_out=7):\n",
    "    # flatten data\n",
    "    data = train.reshape((train.shape[0]*train.shape[1], train.shape[2]))\n",
    "    X, y = list(), list()\n",
    "    in_start = 0\n",
    "    # step over the entire history one time step at a time\n",
    "    for _ in range(len(data)):\n",
    "        # define the end of the input sequence\n",
    "        in_end = in_start + n_input\n",
    "        out_end = in_end + n_out\n",
    "        # ensure we have enough data for this instance\n",
    "        if out_end <= len(data):\n",
    "            x_input = data[in_start:in_end, :]\n",
    "            X.append(x_input)\n",
    "            y.append(data[in_end:out_end, :])\n",
    "        # move along one time step\n",
    "        in_start += 1\n",
    "    return np.array(X), np.array(y)"
   ]
  },
  {
   "cell_type": "code",
   "execution_count": 12,
   "metadata": {},
   "outputs": [
    {
     "name": "stdout",
     "output_type": "stream",
     "text": [
      "(180, 7, 4)\n",
      "(46, 7, 4)\n"
     ]
    }
   ],
   "source": [
    "train, test = split_dataset(dsnorm)\n",
    "print(train.shape)\n",
    "print(test.shape)"
   ]
  },
  {
   "cell_type": "code",
   "execution_count": 13,
   "metadata": {},
   "outputs": [
    {
     "name": "stdout",
     "output_type": "stream",
     "text": [
      "(1224, 30, 4)\n",
      "(1224, 7, 4)\n",
      "(286, 30, 4)\n",
      "(286, 7, 4)\n"
     ]
    }
   ],
   "source": [
    "train_x, train_y = to_supervised(train, 30)\n",
    "print(train_x.shape)\n",
    "print(train_y.shape)\n",
    "test_x, test_y = to_supervised(test, 30)\n",
    "print(test_x.shape)\n",
    "print(test_y.shape)"
   ]
  },
  {
   "cell_type": "code",
   "execution_count": 14,
   "metadata": {},
   "outputs": [],
   "source": [
    "### LSTM Model\n",
    "\n",
    "# define parameters\n",
    "verbose, epochs, batch_size = 1, 10000, 16\n",
    "n_timesteps, n_features, n_outputs = train_x.shape[1], train_x.shape[2], train_y.shape[1]\n",
    "\n",
    "# define model\n",
    "model = Sequential()\n",
    "model.add(LSTM(200, activation='relu', input_shape=(n_timesteps, n_features)))\n",
    "model.add(RepeatVector(7))\n",
    "model.add(Dense(100, activation='relu'))\n",
    "model.add(Dense(n_features))\n",
    "model.compile(loss='mse', optimizer='adam')"
   ]
  },
  {
   "cell_type": "code",
   "execution_count": 15,
   "metadata": {},
   "outputs": [
    {
     "data": {
      "image/png": "[encoded data removed]",
      "text/plain": [
       "<IPython.core.display.Image object>"
      ]
     },
     "execution_count": 15,
     "metadata": {},
     "output_type": "execute_result"
    }
   ],
   "source": [
    "from keras.utils import plot_model\n",
    "from IPython.display import Image \n",
    "\n",
    "plot_model(model, show_shapes=True, show_layer_names=True, to_file='model.png')\n",
    "Image('model.png')"
   ]
  },
  {
   "cell_type": "code",
   "execution_count": 16,
   "metadata": {},
   "outputs": [
    {
     "name": "stdout",
     "output_type": "stream",
     "text": [
      "Train on 979 samples, validate on 245 samples\n",
      "Epoch 1/10000\n",
      "979/979 [==============================] - 2s 2ms/step - loss: 0.0063 - val_loss: 0.0091\n",
      "Epoch 2/10000\n",
      "979/979 [==============================] - 1s 1ms/step - loss: 0.0053 - val_loss: 0.0087\n",
      "Epoch 3/10000\n",
      "979/979 [==============================] - 1s 1ms/step - loss: 0.0052 - val_loss: 0.0085\n",
      "Epoch 4/10000\n",
      "979/979 [==============================] - 1s 1ms/step - loss: 0.0051 - val_loss: 0.0085\n",
      "Epoch 5/10000\n",
      "979/979 [==============================] - 1s 2ms/step - loss: 0.0051 - val_loss: 0.0086\n",
      "Epoch 6/10000\n",
      "979/979 [==============================] - 1s 1ms/step - loss: 0.0051 - val_loss: 0.0085\n",
      "Restoring model weights from the end of the best epoch.\n",
      "Epoch 00006: early stopping\n",
      "CPU times: user 42.1 s, sys: 9.21 s, total: 51.4 s\n",
      "Wall time: 9.86 s\n"
     ]
    }
   ],
   "source": [
    "%%time\n",
    "#checkpoint_file= path + \"/weights.hdf5\"\n",
    "earlystop = tf.keras.callbacks.EarlyStopping(monitor='val_loss', patience=3, min_delta=0.0001, \n",
    "                                             verbose=1, restore_best_weights = True)\n",
    "#checkpoint = ModelCheckpoint(checkpoint_file, monitor='val_loss', verbose=1, save_best_only=True)\n",
    "callbacks_list = [earlystop]#, checkpoint]\n",
    "\n",
    "H = model.fit(train_x, train_y, epochs=epochs, validation_split=0.2,\n",
    "              verbose=verbose, callbacks=callbacks_list, shuffle=True)"
   ]
  },
  {
   "cell_type": "code",
   "execution_count": 19,
   "metadata": {},
   "outputs": [
    {
     "data": {
      "image/png": "[encoded data removed]",
      "text/plain": [
       "<Figure size 1152x576 with 1 Axes>"
      ]
     },
     "metadata": {},
     "output_type": "display_data"
    }
   ],
   "source": [
    "plt.style.use(\"ggplot\")\n",
    "plt.figure(figsize=(16,8))\n",
    "#plt.plot(np.arange(0, N), H.history[\"loss\"], label=\"Loss (MSE)\")\n",
    "#plt.plot(np.arange(0, N), H.history[\"val_loss\"], label=\"Val Loss (MSE)\")\n",
    "plt.plot(H.history[\"loss\"], label=\"Loss (MSE)\")\n",
    "plt.plot(H.history[\"val_loss\"], label=\"Val Loss (MSE)\")\n",
    "plt.title(\"Training Errors on Dataset\")\n",
    "plt.xlabel(\"Epoch #\")\n",
    "plt.ylabel(\"Error\")\n",
    "plt.legend()\n",
    "plt.ylim(0,0.1)\n",
    "plt.savefig(\"plot.png\")\n",
    "plt.show()"
   ]
  },
  {
   "cell_type": "code",
   "execution_count": 20,
   "metadata": {},
   "outputs": [
    {
     "name": "stdout",
     "output_type": "stream",
     "text": [
      "Train loss: 0.005827\n",
      "Test loss: 0.004123\n"
     ]
    }
   ],
   "source": [
    "results = model.evaluate(train_x, train_y, verbose=0)\n",
    "print('Train loss: {0:.4g}'.format(results))\n",
    "results = model.evaluate(test_x, test_y, verbose=0)\n",
    "print('Test loss: {0:.4g}'.format(results))"
   ]
  }
 ],
 "metadata": {
  "kernelspec": {
   "display_name": "Python 3",
   "language": "python",
   "name": "python3"
  },
  "language_info": {
   "codemirror_mode": {
    "name": "ipython",
    "version": 3
   },
   "file_extension": ".py",
   "mimetype": "text/x-python",
   "name": "python",
   "nbconvert_exporter": "python",
   "pygments_lexer": "ipython3",
   "version": "3.8.11"
  }
 },
 "nbformat": 4,
 "nbformat_minor": 4
}
