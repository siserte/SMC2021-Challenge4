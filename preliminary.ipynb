{
 "cells": [
  {
   "cell_type": "markdown",
   "metadata": {},
   "source": [
    "## Import libraries"
   ]
  },
  {
   "cell_type": "code",
   "execution_count": 1,
   "metadata": {},
   "outputs": [
    {
     "name": "stderr",
     "output_type": "stream",
     "text": [
      "Using TensorFlow backend.\n"
     ]
    },
    {
     "name": "stdout",
     "output_type": "stream",
     "text": [
      "Notebook running on Python 3.8.11\n",
      "Numpy version 1.20.3\n",
      "Keras version  2.3.1 and TensorFlow 2.2.0 (CUDA: True - GPUs available: [] )\n"
     ]
    }
   ],
   "source": [
    "import os\n",
    "#os.environ['CUDA_VISIBLE_DEVICES'] = '0,1'\n",
    "os.environ[\"CUDA_VISIBLE_DEVICES\"] = \"-1\"\n",
    "\n",
    "from decimal import Decimal\n",
    "import numpy as np\n",
    "import glob\n",
    "import importlib\n",
    "import gc\n",
    "import matplotlib.pyplot as plt\n",
    "#from livelossplot import PlotLossesKeras\n",
    "from sklearn.preprocessing import StandardScaler\n",
    "from sklearn.metrics import mean_absolute_error, mean_squared_error\n",
    "import pickle\n",
    "import gc # Garbage Collector\n",
    "import pandas as pd\n",
    "from numpy import savez_compressed\n",
    "from joblib import dump, load\n",
    "from sklearn.model_selection import train_test_split\n",
    "\n",
    "from keras.models import load_model\n",
    "from keras.preprocessing.sequence import TimeseriesGenerator\n",
    "from keras.models import Sequential, load_model\n",
    "from keras.layers import LSTM, TimeDistributed, BatchNormalization, ConvLSTM2D\n",
    "from keras.layers.core import Dense, Flatten, Dropout, RepeatVector, Reshape, Dropout\n",
    "from keras.layers.convolutional import Conv3D, Conv3DTranspose, MaxPooling3D\n",
    "from keras.callbacks import ModelCheckpoint, EarlyStopping\n",
    "\n",
    "#leakyrelu = lambda x: tf.keras.activations.relu(x, alpha=0.1)\n",
    "\n",
    "def plot_loss(history):\n",
    "  plt.figure(figsize=(16,8))\n",
    "  plt.plot(history.history['loss'], label='loss')\n",
    "  plt.plot(history.history['val_loss'], label='val_loss')\n",
    "  #plt.ylim([0, 0.4])\n",
    "  plt.xlabel('Epoch')\n",
    "  plt.ylabel('Error')\n",
    "  plt.legend()\n",
    "  plt.grid(True)\n",
    "    \n",
    "from platform import python_version\n",
    "import keras\n",
    "import tensorflow as tf\n",
    "\n",
    "from tensorflow.compat.v1.keras.backend import set_session\n",
    "config = tf.compat.v1.ConfigProto()\n",
    "config.gpu_options.allow_growth = True  # True dynamically grow the memory used on the GPU\n",
    "sess = tf.compat.v1.Session(config=config)\n",
    "set_session(sess)\n",
    "\n",
    "from tensorflow.python.client import device_lib\n",
    "def get_available_gpus():\n",
    "    local_device_protos = device_lib.list_local_devices()\n",
    "    return [x.name for x in local_device_protos if x.device_type == 'GPU']\n",
    "\n",
    "print('Notebook running on Python', python_version())\n",
    "print('Numpy version', np.version.version)\n",
    "print('Keras version ', keras.__version__,'and TensorFlow', tf.__version__, '(CUDA:', tf.test.is_built_with_cuda(), '- GPUs available:', get_available_gpus(), ')')"
   ]
  },
  {
   "cell_type": "markdown",
   "metadata": {},
   "source": [
    "## Load data from files"
   ]
  },
  {
   "cell_type": "code",
   "execution_count": 2,
   "metadata": {},
   "outputs": [],
   "source": [
    "datasetRURpath = \"dc21-rur-and-gpu-data/RUR/\"\n",
    "datasetGPUpath = \"dc21-rur-and-gpu-data/GPU/\""
   ]
  },
  {
   "cell_type": "markdown",
   "metadata": {},
   "source": [
    "### RUR"
   ]
  },
  {
   "cell_type": "code",
   "execution_count": 3,
   "metadata": {},
   "outputs": [
    {
     "name": "stdout",
     "output_type": "stream",
     "text": [
      "Index(['user_id', 'start_time', 'end_time', 'stime', 'utime', 'alps_exit',\n",
      "       'alps_nppn', 'alps_width', 'alps_resid', 'aprun_id', 'command',\n",
      "       'node_count', 'max_rss', 'rchar', 'wchar', 'gpu_mode', 'gpu_pids',\n",
      "       'gpu_secs', 'gpu_maxsecs', 'gpu_maxmem', 'gpu_summem'],\n",
      "      dtype='object')\n",
      "12981186\n",
      "    user_id                  start_time                    end_time  \\\n",
      "0  User2360  2019-06-12 19:23:37.686654  2019-06-12 19:32:09.182835   \n",
      "1  User2360  2019-06-12 19:23:37.666163  2019-06-12 19:32:14.282770   \n",
      "2  User2360  2019-06-12 19:23:37.667248  2019-06-12 19:32:19.860300   \n",
      "3  User2360  2019-06-12 19:23:37.126212  2019-06-12 19:32:20.172509   \n",
      "4  User2275  2019-06-12 19:07:07.288847  2019-06-12 19:33:20.797099   \n",
      "\n",
      "       stime         utime  alps_exit  alps_nppn  alps_width  alps_resid  \\\n",
      "0  2764000.0  4.993480e+08          0        0.0         1.0     2251429   \n",
      "1  2876000.0  5.056400e+08          0        0.0         1.0     2251429   \n",
      "2  2788000.0  5.109680e+08          0        0.0         1.0     2251429   \n",
      "3  2792000.0  5.102800e+08          0        0.0         1.0     2251429   \n",
      "4  2512000.0  1.256227e+10          0        0.0         8.0     2251353   \n",
      "\n",
      "   aprun_id  ... node_count    max_rss        rchar        wchar  \\\n",
      "0  21028066  ...          1  2204216.0   28463893.0   18728047.0   \n",
      "1  21028062  ...          1  2187056.0   28462377.0   18478387.0   \n",
      "2  21028056  ...          1  2265764.0   28435532.0   18877977.0   \n",
      "3  21028048  ...          1  2226560.0   28384301.0   18426922.0   \n",
      "4  21027884  ...          1    25864.0  389206016.0  388857542.0   \n",
      "\n",
      "            gpu_mode gpu_pids  gpu_secs  gpu_maxsecs  gpu_maxmem  gpu_summem  \n",
      "0  exclusive_process      0.0       0.0          0.0         0.0         0.0  \n",
      "1  exclusive_process      0.0       0.0          0.0         0.0         0.0  \n",
      "2  exclusive_process      0.0       0.0          0.0         0.0         0.0  \n",
      "3  exclusive_process      0.0       0.0          0.0         0.0         0.0  \n",
      "4  exclusive_process      0.0       0.0          0.0         0.0         0.0  \n",
      "\n",
      "[5 rows x 21 columns]\n"
     ]
    }
   ],
   "source": [
    "dfrur = pd.DataFrame()\n",
    "files = glob.glob(datasetRURpath + \"/20*.csv\") \n",
    "for filename in files:\n",
    "    data = pd.read_csv(filename)\n",
    "    dfrur = dfrur.append(data, ignore_index=True)\n",
    "print(dfrur.columns)\n",
    "print(len(dfrur))\n",
    "print(dfrur.head())"
   ]
  },
  {
   "cell_type": "code",
   "execution_count": 4,
   "metadata": {},
   "outputs": [
    {
     "name": "stdout",
     "output_type": "stream",
     "text": [
      "Users:  2372\n",
      "Jobs:  12981186\n",
      "Max nodes:  18688\n"
     ]
    }
   ],
   "source": [
    "print(\"Users: \", len(dfrur['user_id'].unique()))\n",
    "print(\"Jobs: \", len(dfrur['user_id']))\n",
    "print(\"Max nodes: \", max(dfrur['node_count']))"
   ]
  },
  {
   "cell_type": "code",
   "execution_count": 5,
   "metadata": {},
   "outputs": [],
   "source": [
    "dfrur['end_time'] = pd.to_datetime(dfrur['end_time'])\n",
    "dfrur['start_time'] = pd.to_datetime(dfrur['start_time'])\n",
    "dfrur[\"duration\"] = (dfrur['end_time'] - dfrur['start_time']).dt.total_seconds()"
   ]
  },
  {
   "cell_type": "code",
   "execution_count": 6,
   "metadata": {},
   "outputs": [],
   "source": [
    "dftask1 = dfrur.drop(dfrur.loc[dfrur['duration'] < 780].index, inplace=False) #13 minutes\n",
    "dftask1.drop(dftask1.loc[dftask1[\"alps_exit\"] != 0].index, inplace=True)\n",
    "dftask1.drop(dftask1.loc[dftask1[\"gpu_secs\"] < 1].index, inplace=True)"
   ]
  },
  {
   "cell_type": "code",
   "execution_count": 7,
   "metadata": {},
   "outputs": [],
   "source": [
    "dftask2 = dftask1\n",
    "dftask2[\"i_command_list\"] = dftask2[\"command\"].apply(lambda x: x.split(\"Area\"))\n",
    "dftask2[\"i_command_len\"] = dftask2[\"i_command_list\"].apply(lambda x: len(x))\n",
    "dftask2.drop(dftask2.loc[dftask2[\"i_command_len\"] == 1].index, inplace=True)\n",
    "dftask2[\"area\"] = dftask2[\"i_command_list\"].apply(lambda x: x[1].split(\"-\")[0])\n",
    "dftask2[\"project\"] = dftask2[\"i_command_list\"].apply(lambda x: x[1].split(\"-\")[1].split(\"/\")[0])"
   ]
  },
  {
   "cell_type": "code",
   "execution_count": 10,
   "metadata": {},
   "outputs": [
    {
     "name": "stdout",
     "output_type": "stream",
     "text": [
      "Correlation data of jobs with the following metrics:\n",
      "\tNumerical-Numerical: Person's R [-1, 1]\n",
      "\tNominal-Numerical (and VV): Correlation ratio [0,1] \n"
     ]
    },
    {
     "data": {
      "image/png": "[encoded data removed]",
      "text/plain": [
       "<Figure size 1008x720 with 2 Axes>"
      ]
     },
     "metadata": {
      "needs_background": "light"
     },
     "output_type": "display_data"
    },
    {
     "data": {
      "text/plain": [
       "{'corr':              project  node_count   max_rss  gpu_maxmem  gpu_summem  duration\n",
       " project     1.000000    0.620112  0.910282    0.911526    0.399430  0.687212\n",
       " node_count  0.620112    1.000000  0.089805    0.086505    0.323666  0.108343\n",
       " max_rss     0.910282    0.089805  1.000000    0.742223    0.045663  0.145222\n",
       " gpu_maxmem  0.911526    0.086505  0.742223    1.000000    0.083847  0.308768\n",
       " gpu_summem  0.399430    0.323666  0.045663    0.083847    1.000000  0.064050\n",
       " duration    0.687212    0.108343  0.145222    0.308768    0.064050  1.000000,\n",
       " 'ax': <AxesSubplot:>}"
      ]
     },
     "execution_count": 10,
     "metadata": {},
     "output_type": "execute_result"
    }
   ],
   "source": [
    "from dython.nominal import associations\n",
    "dfAux = dftask2[[ 'project', 'node_count', 'max_rss', 'gpu_maxmem', 'gpu_summem', \"duration\"]]\n",
    "\n",
    "print('Correlation data of jobs with the following metrics:')\n",
    "print('\\tNumerical-Numerical: Person\\'s R [-1, 1]')\n",
    "print('\\tNominal-Numerical (and VV): Correlation ratio [0,1] ')\n",
    "associations(dfAux,nominal_columns=[\"project\"], figsize=(14,10))\n",
    "#print('Number of jobs:', len(dfAux))"
   ]
  }
 ],
 "metadata": {
  "kernelspec": {
   "display_name": "Python 3",
   "language": "python",
   "name": "python3"
  },
  "language_info": {
   "codemirror_mode": {
    "name": "ipython",
    "version": 3
   },
   "file_extension": ".py",
   "mimetype": "text/x-python",
   "name": "python",
   "nbconvert_exporter": "python",
   "pygments_lexer": "ipython3",
   "version": "3.8.11"
  }
 },
 "nbformat": 4,
 "nbformat_minor": 4
}
